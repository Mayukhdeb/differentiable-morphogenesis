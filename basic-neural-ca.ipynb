{
 "cells": [
  {
   "cell_type": "markdown",
   "metadata": {},
   "source": [
    "## Neural Cellular Automata on PyTorch\n",
    "\n",
    "This notebook is a \"pytorch translation\" of [this youtube video](https://www.youtube.com/watch?v=8EN_8p9Toyc) by Alexander Mordvintsev.\n",
    "\n",
    "If you want to suggest any changes, feel free to make a PR :)"
   ]
  },
  {
   "cell_type": "code",
   "execution_count": null,
   "metadata": {
    "id": "IYcvvW_4vehs"
   },
   "outputs": [],
   "source": [
    "!pip install torch-summary"
   ]
  },
  {
   "cell_type": "code",
   "execution_count": 3,
   "metadata": {
    "id": "xKp9Hzp1u750"
   },
   "outputs": [],
   "source": [
    "import torch\n",
    "import torch.nn as nn \n",
    "import numpy as np\n",
    "import matplotlib.pyplot as plt \n",
    "import cv2 \n",
    "import torch.nn.functional as F\n",
    "import torch.optim as optim\n",
    "from tqdm.notebook import tqdm\n",
    "from IPython.display import Image, HTML, clear_output\n",
    "from torchsummary import summary\n"
   ]
  },
  {
   "cell_type": "code",
   "execution_count": 1,
   "metadata": {
    "colab": {
     "base_uri": "https://localhost:8080/"
    },
    "id": "NBqtD59QvF4f",
    "outputId": "3c2053a5-bd5b-4c45-e22a-016d45cd432b"
   },
   "outputs": [],
   "source": [
    "# !wget -O flower.png https://raw.githubusercontent.com/googlefonts/noto-emoji/master/png/128/emoji_u1f33a.png\n",
    "# !wget -O lizard.png https://emojipedia-us.s3.dualstack.us-west-1.amazonaws.com/thumbs/160/google/274/lizard_1f98e.png"
   ]
  },
  {
   "cell_type": "code",
   "execution_count": 6,
   "metadata": {
    "colab": {
     "base_uri": "https://localhost:8080/",
     "height": 285
    },
    "id": "xDLc-l9rvHfg",
    "outputId": "be959d29-6b81-4863-8f2c-b8125a7de91e"
   },
   "outputs": [
    {
     "data": {
      "image/png": "[encoded data removed]",
      "text/plain": [
       "<Figure size 432x288 with 1 Axes>"
      ]
     },
     "metadata": {
      "needs_background": "light"
     },
     "output_type": "display_data"
    }
   ],
   "source": [
    "#@title {vertical-output: true}\n",
    "width = 40\n",
    "height = 40\n",
    "filename = 'images/linus.png'\n",
    "device = 'cuda'\n",
    "im = (cv2.cvtColor(cv2.resize(cv2.imread(filename, cv2.IMREAD_UNCHANGED), (width,height)), cv2.COLOR_BGRA2RGBA)/255.0).astype(np.float32)\n",
    "plt.imshow(im)\n",
    "plt.show()"
   ]
  },
  {
   "cell_type": "code",
   "execution_count": 7,
   "metadata": {
    "colab": {
     "base_uri": "https://localhost:8080/",
     "height": 287
    },
    "id": "48C86Q9FvO05",
    "outputId": "31abc555-91d3-4a07-ceb4-ea1ba03b5ecd"
   },
   "outputs": [
    {
     "data": {
      "text/plain": [
       "<matplotlib.colorbar.Colorbar at 0x7fef65deaa90>"
      ]
     },
     "execution_count": 7,
     "metadata": {},
     "output_type": "execute_result"
    },
    {
     "data": {
      "image/png": "[encoded data removed]",
      "text/plain": [
       "<Figure size 432x288 with 2 Axes>"
      ]
     },
     "metadata": {
      "needs_background": "light"
     },
     "output_type": "display_data"
    }
   ],
   "source": [
    "plt.imshow(im[:,:,3])  ## last channel \n",
    "plt.colorbar()"
   ]
  },
  {
   "cell_type": "code",
   "execution_count": 8,
   "metadata": {
    "id": "8rtZ9GW9vYhx"
   },
   "outputs": [],
   "source": [
    "num_channels = 16\n",
    "seed = np.zeros([1, width, height, num_channels], np.float32)\n",
    "seed[:,width//2, height//2, 3:] = 1.0"
   ]
  },
  {
   "cell_type": "code",
   "execution_count": 9,
   "metadata": {
    "colab": {
     "base_uri": "https://localhost:8080/",
     "height": 267
    },
    "id": "uMTGh2BVvaKV",
    "outputId": "5210ec88-e6e6-44d5-95cb-0bb252aa5a46"
   },
   "outputs": [
    {
     "data": {
      "image/png": "[encoded data removed]",
      "text/plain": [
       "<Figure size 432x288 with 1 Axes>"
      ]
     },
     "metadata": {
      "needs_background": "light"
     },
     "output_type": "display_data"
    }
   ],
   "source": [
    "plt.imshow(seed[0,:,:,:4])\n",
    "plt.show()"
   ]
  },
  {
   "cell_type": "code",
   "execution_count": 10,
   "metadata": {
    "id": "S9AYW_p5vbOW"
   },
   "outputs": [],
   "source": [
    "class ca_model(nn.Module):\n",
    "    def __init__(self, checkpoint = None):\n",
    "        super(ca_model, self).__init__()\n",
    "\n",
    "        self.model = nn.Sequential(\n",
    "            nn.Conv2d(16, 128, kernel_size = 3,padding =1,  bias = True),  \n",
    "            nn.ReLU(),\n",
    "            nn.Conv2d(128, 16, kernel_size =  1, bias = True),\n",
    "        )\n",
    "\n",
    "\n",
    "        '''\n",
    "        initial condition for \"do nothing\" behaviour:\n",
    "            * all biases should be zero\n",
    "            * the weights of the last layer should be zero\n",
    "        '''\n",
    "        self.model[0].bias.data.fill_(0)\n",
    "        self.model[2].weight.data.fill_(0)\n",
    "        self.model[2].bias.data.fill_(0)\n",
    "\n",
    "        \n",
    "    def forward(self, x):\n",
    "        \n",
    "        out = x + self.model(x)  ## reminds me of residual nets \n",
    "        return out"
   ]
  },
  {
   "cell_type": "code",
   "execution_count": 17,
   "metadata": {
    "id": "vdhh1nB0vcoW"
   },
   "outputs": [],
   "source": [
    "model = ca_model().to(device)\n",
    "summary(model, (16,width,height))"
   ]
  },
  {
   "cell_type": "code",
   "execution_count": null,
   "metadata": {
    "colab": {
     "base_uri": "https://localhost:8080/",
     "height": 285
    },
    "id": "Tp3FToVfv6P_",
    "outputId": "9c0ed676-93a6-4862-dd05-9b321093004f"
   },
   "outputs": [],
   "source": [
    "x = torch.tensor(seed).permute(0,-1,1,2).to(device)\n",
    "\n",
    "for i in range(100):\n",
    "    x = model(x)\n",
    "\n",
    "out = x[0].permute(-1, -2,0).cpu().detach().numpy()[:,:,:4]\n",
    "plt.imshow(out)\n",
    "plt.show()\n",
    "out.mean(), out.min(), out.max()\n"
   ]
  },
  {
   "cell_type": "code",
   "execution_count": 12,
   "metadata": {
    "id": "dVJHoBx_v9P8"
   },
   "outputs": [],
   "source": [
    "def train_step(model, target, loss_func, iters, seed):\n",
    "    x = seed \n",
    "    for i in range(iters):\n",
    "        x =  model(x)\n",
    "    loss = loss_func(x[:,:4, :,:], target)\n",
    "    return loss, x\n",
    "\n",
    "\n",
    "def to_rgb(img):\n",
    "    rgb, a = img[:,:,:3], img[:,:,3:4]\n",
    "    return 1.0-a+rgb"
   ]
  },
  {
   "cell_type": "code",
   "execution_count": 13,
   "metadata": {
    "colab": {
     "base_uri": "https://localhost:8080/",
     "height": 517
    },
    "id": "Wg6qGbKo_woH",
    "outputId": "02da01f2-267a-414c-b0c1-7ebe76948645"
   },
   "outputs": [
    {
     "data": {
      "image/png": "[encoded data removed]",
      "text/plain": [
       "<Figure size 432x288 with 1 Axes>"
      ]
     },
     "metadata": {
      "needs_background": "light"
     },
     "output_type": "display_data"
    },
    {
     "data": {
      "image/png": "[encoded data removed]",
      "text/plain": [
       "<Figure size 432x288 with 1 Axes>"
      ]
     },
     "metadata": {
      "needs_background": "light"
     },
     "output_type": "display_data"
    }
   ],
   "source": [
    "model = ca_model().to(device)\n",
    "optimizer = optim.Adam(model.parameters(), lr = 1e-3)\n",
    "\n",
    "\n",
    "seed_tensor = torch.tensor(seed).permute(0,-1,1,2).to(device)\n",
    "target = torch.tensor(im.transpose(-1,0,1)).unsqueeze(0).to(device)\n",
    "\n",
    "plt.imshow(seed_tensor[:,:4,:,:].cpu().permute(0,2,3,1).squeeze(0))\n",
    "plt.show()\n",
    "\n",
    "plt.imshow(target.cpu().permute(0,2,3,1).squeeze(0))\n",
    "plt.show()\n",
    "\n",
    "losses = []\n",
    "samples = []\n",
    "\n"
   ]
  },
  {
   "cell_type": "code",
   "execution_count": 14,
   "metadata": {
    "colab": {
     "base_uri": "https://localhost:8080/",
     "height": 569
    },
    "id": "WErb3Yucv-hI",
    "outputId": "f47d3c9a-eedc-4164-ebe6-c5694a8af2ad"
   },
   "outputs": [
    {
     "name": "stderr",
     "output_type": "stream",
     "text": [
      "Clipping input data to the valid range for imshow with RGB data ([0..1] for floats or [0..255] for integers).\n"
     ]
    },
    {
     "data": {
      "image/png": "[encoded data removed]",
      "text/plain": [
       "<Figure size 432x288 with 1 Axes>"
      ]
     },
     "metadata": {
      "needs_background": "light"
     },
     "output_type": "display_data"
    },
    {
     "data": {
      "image/png": "[encoded data removed]",
      "text/plain": [
       "<Figure size 432x288 with 1 Axes>"
      ]
     },
     "metadata": {
      "needs_background": "light"
     },
     "output_type": "display_data"
    },
    {
     "name": "stdout",
     "output_type": "stream",
     "text": [
      "1499\n"
     ]
    }
   ],
   "source": [
    "epochs  = 1500\n",
    "for i in tqdm(range(epochs)):\n",
    "\n",
    "\n",
    "    loss, out = train_step(\n",
    "        model = model, \n",
    "        target = target, \n",
    "        loss_func = F.mse_loss, \n",
    "        iters = 50,\n",
    "        seed = seed_tensor\n",
    "        )\n",
    "    loss.backward()\n",
    "\n",
    "    for p in model.parameters():\n",
    "        '''\n",
    "        gradient normalization for constant step size and to avoid spikes \n",
    "        '''\n",
    "        p.grad.data = p.grad.data/(p.grad.data.norm()+1e-9)\n",
    "\n",
    "\n",
    "    optimizer.step()\n",
    "    optimizer.zero_grad()\n",
    "\n",
    "    losses.append(loss.item())\n",
    "\n",
    "\n",
    "    if i % 100 ==0 or i  == epochs-1:\n",
    "        # samples.append(x[0].permute(-1, -2,0).cpu().detach().numpy()[:,:,:4])\n",
    "        clear_output()\n",
    "        samples.append(to_rgb(out[0].permute(-2, -1,0).cpu().detach().numpy()))\n",
    "        plt.imshow(to_rgb(out[0].permute(-2, -1,0).cpu().detach().numpy()))\n",
    "        plt.show()\n",
    "\n",
    "        plt.plot(losses)\n",
    "        # plt.plot(grads)\n",
    "        plt.yscale('log')\n",
    "        plt.show()"
   ]
  },
  {
   "cell_type": "code",
   "execution_count": 174,
   "metadata": {
    "id": "Uf21IjOXToip"
   },
   "outputs": [],
   "source": [
    "import os\n",
    "\n",
    "os.environ['FFMPEG_BINARY'] = 'ffmpeg'\n",
    "import moviepy.editor as mvp\n",
    "from moviepy.video.io.ffmpeg_writer import FFMPEG_VideoWriter\n",
    "\n",
    "class VideoWriter:\n",
    "    def __init__(self, filename='_autoplay.mp4', fps=15.0, **kw):\n",
    "        self.writer = None\n",
    "        self.params = dict(filename=filename, fps=fps, **kw)\n",
    "\n",
    "    def add(self, img):\n",
    "        img = np.asarray(img)\n",
    "        if self.writer is None:\n",
    "            h, w = img.shape[:2]\n",
    "            self.writer = FFMPEG_VideoWriter(size=(w, h), **self.params)\n",
    "        if img.dtype in [np.float32, np.float64]:\n",
    "            img = np.uint8(img.clip(0, 1)*255)\n",
    "        if len(img.shape) == 2:\n",
    "            img = np.repeat(img[..., None], 3, -1)\n",
    "        self.writer.write_frame(img)\n",
    "\n",
    "    def close(self):\n",
    "        if self.writer:\n",
    "            self.writer.close()\n",
    "\n",
    "    def __enter__(self):\n",
    "        return self\n",
    "\n",
    "    def __exit__(self, *kw):\n",
    "        self.close()\n",
    "        if self.params['filename'] == '_autoplay.mp4':\n",
    "            self.show()\n",
    "\n",
    "    def show(self, **kw):\n",
    "        self.close()\n",
    "        fn = self.params['filename']\n",
    "        display(mvp.ipython_display(fn, **kw))"
   ]
  },
  {
   "cell_type": "code",
   "execution_count": null,
   "metadata": {
    "id": "ZJo8IHp3v_ov"
   },
   "outputs": [],
   "source": [
    "x = torch.tensor(seed).permute(0,-1,1,2).to(device)\n",
    "\n",
    "v = VideoWriter()\n",
    "outs = []\n",
    "with torch.no_grad():\n",
    "\n",
    "    for i in range(50):\n",
    "        x = model(x)\n",
    "        v.add(to_rgb(x[0].permute(-2, -1,0).cpu().detach().numpy()))\n",
    "\n",
    "for j in range(10):\n",
    "    v.add(to_rgb(x[0].permute(-2, -1,0).cpu().detach().numpy()))\n",
    "    \n",
    "v.close()\n",
    "v.show()"
   ]
  }
 ],
 "metadata": {
  "accelerator": "GPU",
  "colab": {
   "collapsed_sections": [],
   "name": "basic_ca.ipynb",
   "provenance": []
  },
  "kernelspec": {
   "display_name": "Python 3",
   "language": "python",
   "name": "python3"
  },
  "language_info": {
   "codemirror_mode": {
    "name": "ipython",
    "version": 3
   },
   "file_extension": ".py",
   "mimetype": "text/x-python",
   "name": "python",
   "nbconvert_exporter": "python",
   "pygments_lexer": "ipython3",
   "version": "3.8.5"
  }
 },
 "nbformat": 4,
 "nbformat_minor": 1
}
